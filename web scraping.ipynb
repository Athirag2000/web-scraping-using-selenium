{
 "cells": [
  {
   "cell_type": "code",
   "execution_count": 3,
   "id": "4b89e120",
   "metadata": {},
   "outputs": [
    {
     "name": "stdout",
     "output_type": "stream",
     "text": [
      "Defaulting to user installation because normal site-packages is not writeable\n",
      "Requirement already satisfied: selenium in ./.local/lib/python3.8/site-packages (4.7.2)\n",
      "Requirement already satisfied: trio~=0.17 in /usr/local/lib/python3.8/dist-packages (from selenium) (0.22.0)\n",
      "Requirement already satisfied: urllib3[socks]~=1.26 in ./.local/lib/python3.8/site-packages (from selenium) (1.26.14)\n",
      "Requirement already satisfied: trio-websocket~=0.9 in ./.local/lib/python3.8/site-packages (from selenium) (0.9.2)\n",
      "Requirement already satisfied: certifi>=2021.10.8 in ./.local/lib/python3.8/site-packages (from selenium) (2022.12.7)\n",
      "Requirement already satisfied: idna in /usr/lib/python3/dist-packages (from trio~=0.17->selenium) (2.8)\n",
      "Requirement already satisfied: attrs>=19.2.0 in /usr/lib/python3/dist-packages (from trio~=0.17->selenium) (19.3.0)\n",
      "Requirement already satisfied: sniffio in /usr/local/lib/python3.8/dist-packages (from trio~=0.17->selenium) (1.3.0)\n",
      "Requirement already satisfied: async-generator>=1.9 in ./.local/lib/python3.8/site-packages (from trio~=0.17->selenium) (1.10)\n",
      "Requirement already satisfied: sortedcontainers in /usr/local/lib/python3.8/dist-packages (from trio~=0.17->selenium) (2.4.0)\n",
      "Requirement already satisfied: exceptiongroup>=1.0.0rc9 in /usr/local/lib/python3.8/dist-packages (from trio~=0.17->selenium) (1.0.0rc9)\n",
      "Requirement already satisfied: outcome in /usr/local/lib/python3.8/dist-packages (from trio~=0.17->selenium) (1.2.0)\n",
      "Requirement already satisfied: wsproto>=0.14 in ./.local/lib/python3.8/site-packages (from trio-websocket~=0.9->selenium) (1.2.0)\n",
      "Requirement already satisfied: PySocks!=1.5.7,<2.0,>=1.5.6 in ./.local/lib/python3.8/site-packages (from urllib3[socks]~=1.26->selenium) (1.7.1)\n",
      "Requirement already satisfied: h11<1,>=0.9.0 in ./.local/lib/python3.8/site-packages (from wsproto>=0.14->trio-websocket~=0.9->selenium) (0.14.0)\n",
      "--- Logging error ---\n",
      "Traceback (most recent call last):\n",
      "  File \"/home/futures/.local/lib/python3.8/site-packages/pip/_internal/utils/logging.py\", line 177, in emit\n",
      "    self.console.print(renderable, overflow=\"ignore\", crop=False, style=style)\n",
      "  File \"/home/futures/.local/lib/python3.8/site-packages/pip/_vendor/rich/console.py\", line 1673, in print\n",
      "    extend(render(renderable, render_options))\n",
      "  File \"/home/futures/.local/lib/python3.8/site-packages/pip/_vendor/rich/console.py\", line 1305, in render\n",
      "    for render_output in iter_render:\n",
      "  File \"/home/futures/.local/lib/python3.8/site-packages/pip/_internal/utils/logging.py\", line 134, in __rich_console__\n",
      "    for line in lines:\n",
      "  File \"/home/futures/.local/lib/python3.8/site-packages/pip/_vendor/rich/segment.py\", line 249, in split_lines\n",
      "    for segment in segments:\n",
      "  File \"/home/futures/.local/lib/python3.8/site-packages/pip/_vendor/rich/console.py\", line 1283, in render\n",
      "    renderable = rich_cast(renderable)\n",
      "  File \"/home/futures/.local/lib/python3.8/site-packages/pip/_vendor/rich/protocol.py\", line 36, in rich_cast\n",
      "    renderable = cast_method()\n",
      "  File \"/home/futures/.local/lib/python3.8/site-packages/pip/_internal/self_outdated_check.py\", line 130, in __rich__\n",
      "    pip_cmd = get_best_invocation_for_this_pip()\n",
      "  File \"/home/futures/.local/lib/python3.8/site-packages/pip/_internal/utils/entrypoints.py\", line 58, in get_best_invocation_for_this_pip\n",
      "    if found_executable and os.path.samefile(\n",
      "  File \"/usr/lib/python3.8/genericpath.py\", line 101, in samefile\n",
      "    s2 = os.stat(f2)\n",
      "FileNotFoundError: [Errno 2] No such file or directory: '/usr/bin/pip3.8'\n",
      "Call stack:\n",
      "  File \"/usr/lib/python3.8/runpy.py\", line 194, in _run_module_as_main\n",
      "    return _run_code(code, main_globals, None,\n",
      "  File \"/usr/lib/python3.8/runpy.py\", line 87, in _run_code\n",
      "    exec(code, run_globals)\n",
      "  File \"/home/futures/.local/lib/python3.8/site-packages/pip/__main__.py\", line 31, in <module>\n",
      "    sys.exit(_main())\n",
      "  File \"/home/futures/.local/lib/python3.8/site-packages/pip/_internal/cli/main.py\", line 70, in main\n",
      "    return command.main(cmd_args)\n",
      "  File \"/home/futures/.local/lib/python3.8/site-packages/pip/_internal/cli/base_command.py\", line 101, in main\n",
      "    return self._main(args)\n",
      "  File \"/home/futures/.local/lib/python3.8/site-packages/pip/_internal/cli/base_command.py\", line 223, in _main\n",
      "    self.handle_pip_version_check(options)\n",
      "  File \"/home/futures/.local/lib/python3.8/site-packages/pip/_internal/cli/req_command.py\", line 190, in handle_pip_version_check\n",
      "    pip_self_version_check(session, options)\n",
      "  File \"/home/futures/.local/lib/python3.8/site-packages/pip/_internal/self_outdated_check.py\", line 236, in pip_self_version_check\n",
      "    logger.warning(\"[present-rich] %s\", upgrade_prompt)\n",
      "  File \"/usr/lib/python3.8/logging/__init__.py\", line 1458, in warning\n",
      "    self._log(WARNING, msg, args, **kwargs)\n",
      "  File \"/usr/lib/python3.8/logging/__init__.py\", line 1589, in _log\n",
      "    self.handle(record)\n",
      "  File \"/usr/lib/python3.8/logging/__init__.py\", line 1599, in handle\n",
      "    self.callHandlers(record)\n",
      "  File \"/usr/lib/python3.8/logging/__init__.py\", line 1661, in callHandlers\n",
      "    hdlr.handle(record)\n",
      "  File \"/usr/lib/python3.8/logging/__init__.py\", line 954, in handle\n",
      "    self.emit(record)\n",
      "  File \"/home/futures/.local/lib/python3.8/site-packages/pip/_internal/utils/logging.py\", line 179, in emit\n",
      "    self.handleError(record)\n",
      "Message: '[present-rich] %s'\n",
      "Arguments: (UpgradePrompt(old='22.2.2', new='22.3.1'),)\n",
      "Note: you may need to restart the kernel to use updated packages.\n"
     ]
    }
   ],
   "source": [
    "pip install selenium\n"
   ]
  },
  {
   "cell_type": "code",
   "execution_count": 37,
   "id": "66962bd6",
   "metadata": {},
   "outputs": [],
   "source": [
    "import selenium\n",
    "import requests"
   ]
  },
  {
   "cell_type": "code",
   "execution_count": 38,
   "id": "56db0628",
   "metadata": {},
   "outputs": [],
   "source": [
    "from selenium import webdriver\n",
    "from selenium.webdriver.common.by import By\n",
    "from selenium.webdriver.common.keys import Keys\n",
    "\n",
    "browser = webdriver.Chrome()\n",
    "\n"
   ]
  },
  {
   "cell_type": "code",
   "execution_count": 39,
   "id": "ba9bc4cd",
   "metadata": {},
   "outputs": [],
   "source": [
    "browser.get('https://twitter.com/udemy?ref_src=twsrc%5Egoogle%7Ctwcamp%5Eserp%7Ctwgr%5Eauthor')"
   ]
  },
  {
   "cell_type": "code",
   "execution_count": 40,
   "id": "29d7655e",
   "metadata": {},
   "outputs": [],
   "source": [
    "elem = browser.find_element(By.CLASS_NAME, 'r-18u37iz') "
   ]
  },
  {
   "cell_type": "code",
   "execution_count": 41,
   "id": "5dfb9c07",
   "metadata": {},
   "outputs": [
    {
     "data": {
      "text/plain": [
       "<selenium.webdriver.remote.webelement.WebElement (session=\"194041c5e93c41c471a9c4e0a5d4e831\", element=\"0668ee4d-7e82-46f3-9376-0f2dddde359d\")>"
      ]
     },
     "execution_count": 41,
     "metadata": {},
     "output_type": "execute_result"
    }
   ],
   "source": [
    "elem\n"
   ]
  },
  {
   "cell_type": "code",
   "execution_count": 42,
   "id": "14e22902",
   "metadata": {},
   "outputs": [
    {
     "data": {
      "text/plain": [
       "'Don’t miss what’s happening\\nPeople on Twitter are the first to know.\\nLog in\\nSign up'"
      ]
     },
     "execution_count": 42,
     "metadata": {},
     "output_type": "execute_result"
    }
   ],
   "source": [
    "elem.text"
   ]
  },
  {
   "cell_type": "code",
   "execution_count": 62,
   "id": "d2da3a47",
   "metadata": {},
   "outputs": [],
   "source": [
    "\n",
    "browser = webdriver.Chrome()\n",
    "browser.get('https://scholar.google.com/scholar?hl=en&as_sdt=0%2C5&q=nlp&btnG=')"
   ]
  },
  {
   "cell_type": "code",
   "execution_count": 63,
   "id": "4de8c33b",
   "metadata": {},
   "outputs": [],
   "source": [
    "elem=browser.find_elements(By.TAG_NAME,'a')"
   ]
  },
  {
   "cell_type": "code",
   "execution_count": 64,
   "id": "080e8117",
   "metadata": {},
   "outputs": [
    {
     "data": {
      "text/plain": [
       "[<selenium.webdriver.remote.webelement.WebElement (session=\"38ae9981ad5c5be41879e165b2694ede\", element=\"04a583c2-ec0e-4c93-aae1-c8c4f5ce4bff\")>,\n",
       " <selenium.webdriver.remote.webelement.WebElement (session=\"38ae9981ad5c5be41879e165b2694ede\", element=\"31539c43-f7b3-4b2f-9b78-b942813e8884\")>,\n",
       " <selenium.webdriver.remote.webelement.WebElement (session=\"38ae9981ad5c5be41879e165b2694ede\", element=\"dea8920f-d2c9-4ade-8f28-b97e953f582f\")>,\n",
       " <selenium.webdriver.remote.webelement.WebElement (session=\"38ae9981ad5c5be41879e165b2694ede\", element=\"ce2bab4d-4d11-425d-bafe-83681ffe9d36\")>,\n",
       " <selenium.webdriver.remote.webelement.WebElement (session=\"38ae9981ad5c5be41879e165b2694ede\", element=\"befdf101-4ee1-4226-a0c6-cf9efe589fad\")>,\n",
       " <selenium.webdriver.remote.webelement.WebElement (session=\"38ae9981ad5c5be41879e165b2694ede\", element=\"3f99e36a-b9fd-4ce4-ae42-758f0a236c55\")>,\n",
       " <selenium.webdriver.remote.webelement.WebElement (session=\"38ae9981ad5c5be41879e165b2694ede\", element=\"d5fc595c-f853-4e65-b2d4-b02ff99db0c6\")>,\n",
       " <selenium.webdriver.remote.webelement.WebElement (session=\"38ae9981ad5c5be41879e165b2694ede\", element=\"cdcad545-6a07-4c4e-b7b6-905efacdb555\")>,\n",
       " <selenium.webdriver.remote.webelement.WebElement (session=\"38ae9981ad5c5be41879e165b2694ede\", element=\"49e49806-4368-4d7a-ada0-291bc0b5a801\")>,\n",
       " <selenium.webdriver.remote.webelement.WebElement (session=\"38ae9981ad5c5be41879e165b2694ede\", element=\"d52f328c-07cc-49cf-83f9-5d699cfac0e9\")>,\n",
       " <selenium.webdriver.remote.webelement.WebElement (session=\"38ae9981ad5c5be41879e165b2694ede\", element=\"ada63f0b-67eb-4053-8af5-55d2875246d8\")>,\n",
       " <selenium.webdriver.remote.webelement.WebElement (session=\"38ae9981ad5c5be41879e165b2694ede\", element=\"fbb82002-d946-44e2-8dce-1e678da432b8\")>,\n",
       " <selenium.webdriver.remote.webelement.WebElement (session=\"38ae9981ad5c5be41879e165b2694ede\", element=\"6e564023-9c57-4d8a-886e-b6b0e4f4f1d2\")>,\n",
       " <selenium.webdriver.remote.webelement.WebElement (session=\"38ae9981ad5c5be41879e165b2694ede\", element=\"65721f6d-1ca6-4e6a-bd46-562bf482a7d4\")>,\n",
       " <selenium.webdriver.remote.webelement.WebElement (session=\"38ae9981ad5c5be41879e165b2694ede\", element=\"ec3a9b85-75de-460f-a358-0a5d86da5229\")>,\n",
       " <selenium.webdriver.remote.webelement.WebElement (session=\"38ae9981ad5c5be41879e165b2694ede\", element=\"0c520d8c-d92f-4077-bab9-7345e850bb61\")>,\n",
       " <selenium.webdriver.remote.webelement.WebElement (session=\"38ae9981ad5c5be41879e165b2694ede\", element=\"7f416599-a977-4f65-b710-9ea28a67d7ca\")>,\n",
       " <selenium.webdriver.remote.webelement.WebElement (session=\"38ae9981ad5c5be41879e165b2694ede\", element=\"33a3c57a-e47f-4dc3-8e11-117d7e160aa7\")>,\n",
       " <selenium.webdriver.remote.webelement.WebElement (session=\"38ae9981ad5c5be41879e165b2694ede\", element=\"432ecbec-b257-4d6c-9e8e-48acc5a497a5\")>,\n",
       " <selenium.webdriver.remote.webelement.WebElement (session=\"38ae9981ad5c5be41879e165b2694ede\", element=\"51d8be63-3ac5-4c2e-8d0d-c0037cb7b033\")>,\n",
       " <selenium.webdriver.remote.webelement.WebElement (session=\"38ae9981ad5c5be41879e165b2694ede\", element=\"6c8137bb-a371-4926-b8dd-21c951eb98eb\")>,\n",
       " <selenium.webdriver.remote.webelement.WebElement (session=\"38ae9981ad5c5be41879e165b2694ede\", element=\"c9608f35-2010-41cf-93a0-183da2eeb961\")>,\n",
       " <selenium.webdriver.remote.webelement.WebElement (session=\"38ae9981ad5c5be41879e165b2694ede\", element=\"22903f96-9df9-469e-a635-9b32f377400e\")>,\n",
       " <selenium.webdriver.remote.webelement.WebElement (session=\"38ae9981ad5c5be41879e165b2694ede\", element=\"b02ba0a9-dda4-4ca1-bac1-0539fe5e1e4d\")>,\n",
       " <selenium.webdriver.remote.webelement.WebElement (session=\"38ae9981ad5c5be41879e165b2694ede\", element=\"72f306c6-a3af-41b9-84d3-a198f29e5493\")>,\n",
       " <selenium.webdriver.remote.webelement.WebElement (session=\"38ae9981ad5c5be41879e165b2694ede\", element=\"d9520886-a379-4879-8e0f-7419bc7cf9c6\")>,\n",
       " <selenium.webdriver.remote.webelement.WebElement (session=\"38ae9981ad5c5be41879e165b2694ede\", element=\"c83ebe03-188f-4cf6-a54c-510101b18dd7\")>,\n",
       " <selenium.webdriver.remote.webelement.WebElement (session=\"38ae9981ad5c5be41879e165b2694ede\", element=\"e007aa82-2ba0-44ce-8a00-43afca5a939c\")>,\n",
       " <selenium.webdriver.remote.webelement.WebElement (session=\"38ae9981ad5c5be41879e165b2694ede\", element=\"f6b74d8e-e717-4852-b6dd-809a1d820e5c\")>,\n",
       " <selenium.webdriver.remote.webelement.WebElement (session=\"38ae9981ad5c5be41879e165b2694ede\", element=\"534c5af1-c0b8-4771-9dce-30e1308dacce\")>,\n",
       " <selenium.webdriver.remote.webelement.WebElement (session=\"38ae9981ad5c5be41879e165b2694ede\", element=\"dcd8f94c-7a1b-4001-ae30-a55784dfc43f\")>,\n",
       " <selenium.webdriver.remote.webelement.WebElement (session=\"38ae9981ad5c5be41879e165b2694ede\", element=\"57ae56d3-e88d-4317-8a7e-717f0e0ea813\")>,\n",
       " <selenium.webdriver.remote.webelement.WebElement (session=\"38ae9981ad5c5be41879e165b2694ede\", element=\"20acecc9-e5c0-4ca2-ac33-fba338f33fe7\")>,\n",
       " <selenium.webdriver.remote.webelement.WebElement (session=\"38ae9981ad5c5be41879e165b2694ede\", element=\"23831e84-2f71-4d55-97a3-fe6c8faffa7b\")>,\n",
       " <selenium.webdriver.remote.webelement.WebElement (session=\"38ae9981ad5c5be41879e165b2694ede\", element=\"85438f02-56b0-41d4-a3f4-b4a010c8c0a9\")>,\n",
       " <selenium.webdriver.remote.webelement.WebElement (session=\"38ae9981ad5c5be41879e165b2694ede\", element=\"b776e773-828d-460e-8d57-6c625d28ff42\")>,\n",
       " <selenium.webdriver.remote.webelement.WebElement (session=\"38ae9981ad5c5be41879e165b2694ede\", element=\"5721fc10-f402-44fa-9ffd-ce420b237c4d\")>,\n",
       " <selenium.webdriver.remote.webelement.WebElement (session=\"38ae9981ad5c5be41879e165b2694ede\", element=\"739f473c-fa69-4e12-a405-ff42cdf1deab\")>,\n",
       " <selenium.webdriver.remote.webelement.WebElement (session=\"38ae9981ad5c5be41879e165b2694ede\", element=\"f17d1fa3-3d19-4478-9372-0dab17a741de\")>,\n",
       " <selenium.webdriver.remote.webelement.WebElement (session=\"38ae9981ad5c5be41879e165b2694ede\", element=\"e7c48104-6c04-4e5d-be7e-77daec53a201\")>,\n",
       " <selenium.webdriver.remote.webelement.WebElement (session=\"38ae9981ad5c5be41879e165b2694ede\", element=\"c35d97d4-614b-40e7-9816-7493b5fd8366\")>,\n",
       " <selenium.webdriver.remote.webelement.WebElement (session=\"38ae9981ad5c5be41879e165b2694ede\", element=\"45666699-c061-4b9b-bfc9-5cc6fc84f696\")>,\n",
       " <selenium.webdriver.remote.webelement.WebElement (session=\"38ae9981ad5c5be41879e165b2694ede\", element=\"bd09bc34-e322-4453-aef9-737a51f2ead0\")>,\n",
       " <selenium.webdriver.remote.webelement.WebElement (session=\"38ae9981ad5c5be41879e165b2694ede\", element=\"9da0e7e5-00fd-4500-ad2c-ac5cd7d8070e\")>,\n",
       " <selenium.webdriver.remote.webelement.WebElement (session=\"38ae9981ad5c5be41879e165b2694ede\", element=\"595e64f8-3d52-4410-8ed9-96234fd890a6\")>,\n",
       " <selenium.webdriver.remote.webelement.WebElement (session=\"38ae9981ad5c5be41879e165b2694ede\", element=\"c33cdd73-e540-40df-967a-c09e2c9dacba\")>,\n",
       " <selenium.webdriver.remote.webelement.WebElement (session=\"38ae9981ad5c5be41879e165b2694ede\", element=\"8d8f0a29-2a24-460d-af02-9ac16b05b327\")>,\n",
       " <selenium.webdriver.remote.webelement.WebElement (session=\"38ae9981ad5c5be41879e165b2694ede\", element=\"3a6fb6c4-29e7-43f3-b393-2ec427ede735\")>,\n",
       " <selenium.webdriver.remote.webelement.WebElement (session=\"38ae9981ad5c5be41879e165b2694ede\", element=\"fc1626bb-dc43-4550-abbf-14799e96103e\")>,\n",
       " <selenium.webdriver.remote.webelement.WebElement (session=\"38ae9981ad5c5be41879e165b2694ede\", element=\"2feeaf16-9f30-49bf-adb5-6bdbe5f33ba2\")>,\n",
       " <selenium.webdriver.remote.webelement.WebElement (session=\"38ae9981ad5c5be41879e165b2694ede\", element=\"d2ba1da4-9c2d-4dde-8886-a3bd06a8c977\")>,\n",
       " <selenium.webdriver.remote.webelement.WebElement (session=\"38ae9981ad5c5be41879e165b2694ede\", element=\"09333886-f0e2-4029-ad7b-550d13a2b00f\")>,\n",
       " <selenium.webdriver.remote.webelement.WebElement (session=\"38ae9981ad5c5be41879e165b2694ede\", element=\"75088df7-f99c-48fe-a569-e460eb04070b\")>,\n",
       " <selenium.webdriver.remote.webelement.WebElement (session=\"38ae9981ad5c5be41879e165b2694ede\", element=\"4510ae50-5c5f-47f5-8bb9-acdf5828d1c1\")>,\n",
       " <selenium.webdriver.remote.webelement.WebElement (session=\"38ae9981ad5c5be41879e165b2694ede\", element=\"659acf7c-4890-4245-93b1-3f5c0a6b4e91\")>,\n",
       " <selenium.webdriver.remote.webelement.WebElement (session=\"38ae9981ad5c5be41879e165b2694ede\", element=\"30e31399-b062-46d0-a50d-10fa4ef5acec\")>,\n",
       " <selenium.webdriver.remote.webelement.WebElement (session=\"38ae9981ad5c5be41879e165b2694ede\", element=\"3ac46dff-956f-437f-b5c9-d48044ed5fdb\")>,\n",
       " <selenium.webdriver.remote.webelement.WebElement (session=\"38ae9981ad5c5be41879e165b2694ede\", element=\"3e484e73-1f99-4730-938e-30edbeb87c02\")>,\n",
       " <selenium.webdriver.remote.webelement.WebElement (session=\"38ae9981ad5c5be41879e165b2694ede\", element=\"e25136bf-4ea9-4274-966d-e38517a5b04c\")>,\n",
       " <selenium.webdriver.remote.webelement.WebElement (session=\"38ae9981ad5c5be41879e165b2694ede\", element=\"556dbbdd-8909-4342-b58f-a57d835bd2b4\")>,\n",
       " <selenium.webdriver.remote.webelement.WebElement (session=\"38ae9981ad5c5be41879e165b2694ede\", element=\"08d87b5b-db4e-464b-a0e2-68d0a4b54015\")>,\n",
       " <selenium.webdriver.remote.webelement.WebElement (session=\"38ae9981ad5c5be41879e165b2694ede\", element=\"34c985ff-6a27-402e-b5fa-2745b6baac01\")>,\n",
       " <selenium.webdriver.remote.webelement.WebElement (session=\"38ae9981ad5c5be41879e165b2694ede\", element=\"eba50957-a734-4768-9346-9c94abc8be73\")>,\n",
       " <selenium.webdriver.remote.webelement.WebElement (session=\"38ae9981ad5c5be41879e165b2694ede\", element=\"d03b6555-8df8-4de2-9a2c-57c2a65b2c08\")>,\n",
       " <selenium.webdriver.remote.webelement.WebElement (session=\"38ae9981ad5c5be41879e165b2694ede\", element=\"5452772f-a093-47e2-9f1a-6f556938031f\")>,\n",
       " <selenium.webdriver.remote.webelement.WebElement (session=\"38ae9981ad5c5be41879e165b2694ede\", element=\"bb29b19a-7f75-4d3f-8f0d-7d0ee84135d8\")>,\n",
       " <selenium.webdriver.remote.webelement.WebElement (session=\"38ae9981ad5c5be41879e165b2694ede\", element=\"cf68f70a-11ba-456b-8874-b3e6a33ae7b0\")>,\n",
       " <selenium.webdriver.remote.webelement.WebElement (session=\"38ae9981ad5c5be41879e165b2694ede\", element=\"c8f99c40-8a96-4647-ad18-34274becb61f\")>,\n",
       " <selenium.webdriver.remote.webelement.WebElement (session=\"38ae9981ad5c5be41879e165b2694ede\", element=\"e601dae0-8fd6-4b52-85e0-628d7ea9611a\")>,\n",
       " <selenium.webdriver.remote.webelement.WebElement (session=\"38ae9981ad5c5be41879e165b2694ede\", element=\"289ca8dd-7674-421c-a60d-2bae062414eb\")>,\n",
       " <selenium.webdriver.remote.webelement.WebElement (session=\"38ae9981ad5c5be41879e165b2694ede\", element=\"130e0e22-f464-4e1f-95fb-2b30fcd07b50\")>,\n",
       " <selenium.webdriver.remote.webelement.WebElement (session=\"38ae9981ad5c5be41879e165b2694ede\", element=\"cc484ecc-783a-4125-a3e2-3b68bf417841\")>,\n",
       " <selenium.webdriver.remote.webelement.WebElement (session=\"38ae9981ad5c5be41879e165b2694ede\", element=\"0ffdad31-3f31-41b1-9736-db06ff14b66f\")>,\n",
       " <selenium.webdriver.remote.webelement.WebElement (session=\"38ae9981ad5c5be41879e165b2694ede\", element=\"135f0d47-8b16-43c0-8816-12913266f374\")>,\n",
       " <selenium.webdriver.remote.webelement.WebElement (session=\"38ae9981ad5c5be41879e165b2694ede\", element=\"7fed64f7-b225-4c70-95f8-e4608bfb725b\")>,\n",
       " <selenium.webdriver.remote.webelement.WebElement (session=\"38ae9981ad5c5be41879e165b2694ede\", element=\"d9bd00ab-9be5-4a2b-861f-c62034189baa\")>,\n",
       " <selenium.webdriver.remote.webelement.WebElement (session=\"38ae9981ad5c5be41879e165b2694ede\", element=\"1086e75f-3013-4e3e-ab08-faa84f09b608\")>,\n",
       " <selenium.webdriver.remote.webelement.WebElement (session=\"38ae9981ad5c5be41879e165b2694ede\", element=\"7d456978-7b57-44d1-9919-82f5a7a77b7f\")>,\n",
       " <selenium.webdriver.remote.webelement.WebElement (session=\"38ae9981ad5c5be41879e165b2694ede\", element=\"4d5cb27c-41b6-4aff-b069-d7afaa4795ff\")>,\n",
       " <selenium.webdriver.remote.webelement.WebElement (session=\"38ae9981ad5c5be41879e165b2694ede\", element=\"426f2f67-e025-452b-a6ca-d2679f9a1717\")>,\n",
       " <selenium.webdriver.remote.webelement.WebElement (session=\"38ae9981ad5c5be41879e165b2694ede\", element=\"b946e5d2-7f73-498f-974a-ee4ee3578304\")>,\n",
       " <selenium.webdriver.remote.webelement.WebElement (session=\"38ae9981ad5c5be41879e165b2694ede\", element=\"132a22e7-4b92-4a76-9d78-312c962a03a7\")>,\n",
       " <selenium.webdriver.remote.webelement.WebElement (session=\"38ae9981ad5c5be41879e165b2694ede\", element=\"30ec16f7-478f-4544-b885-442e9e93083f\")>,\n",
       " <selenium.webdriver.remote.webelement.WebElement (session=\"38ae9981ad5c5be41879e165b2694ede\", element=\"d752830e-4376-4abc-80cb-971bd5db5fec\")>,\n",
       " <selenium.webdriver.remote.webelement.WebElement (session=\"38ae9981ad5c5be41879e165b2694ede\", element=\"eb235d05-f26f-49a9-b6f3-3563062a2ae3\")>,\n",
       " <selenium.webdriver.remote.webelement.WebElement (session=\"38ae9981ad5c5be41879e165b2694ede\", element=\"b06b9da7-61d9-4bb4-8ada-cf50e5c34da8\")>,\n",
       " <selenium.webdriver.remote.webelement.WebElement (session=\"38ae9981ad5c5be41879e165b2694ede\", element=\"f5173404-2f61-4360-aa09-628d6d7001c8\")>,\n",
       " <selenium.webdriver.remote.webelement.WebElement (session=\"38ae9981ad5c5be41879e165b2694ede\", element=\"72deea40-28bf-49ad-9939-e1a36863dd0b\")>,\n",
       " <selenium.webdriver.remote.webelement.WebElement (session=\"38ae9981ad5c5be41879e165b2694ede\", element=\"1440a31a-3276-45ad-b761-e01b479f55b8\")>,\n",
       " <selenium.webdriver.remote.webelement.WebElement (session=\"38ae9981ad5c5be41879e165b2694ede\", element=\"ffe756dd-d972-4331-9316-349424c9138d\")>,\n",
       " <selenium.webdriver.remote.webelement.WebElement (session=\"38ae9981ad5c5be41879e165b2694ede\", element=\"e013f786-d0a6-447c-914b-7447939e4ecf\")>,\n",
       " <selenium.webdriver.remote.webelement.WebElement (session=\"38ae9981ad5c5be41879e165b2694ede\", element=\"dd183eee-3fd2-4887-b9e6-3202f3f5793b\")>,\n",
       " <selenium.webdriver.remote.webelement.WebElement (session=\"38ae9981ad5c5be41879e165b2694ede\", element=\"711e5b54-3ccd-431f-8b19-fa5aac16d7c3\")>,\n",
       " <selenium.webdriver.remote.webelement.WebElement (session=\"38ae9981ad5c5be41879e165b2694ede\", element=\"3f4ac63c-bd0c-463a-a6a0-01c0f7d8dbd0\")>,\n",
       " <selenium.webdriver.remote.webelement.WebElement (session=\"38ae9981ad5c5be41879e165b2694ede\", element=\"d9fefa1f-c561-463c-9e4a-2fac97b84185\")>,\n",
       " <selenium.webdriver.remote.webelement.WebElement (session=\"38ae9981ad5c5be41879e165b2694ede\", element=\"dcc57ef7-b7d4-4c7f-85be-e6121fb45384\")>,\n",
       " <selenium.webdriver.remote.webelement.WebElement (session=\"38ae9981ad5c5be41879e165b2694ede\", element=\"fd2485fe-0720-4044-b92b-b57903cf39c5\")>,\n",
       " <selenium.webdriver.remote.webelement.WebElement (session=\"38ae9981ad5c5be41879e165b2694ede\", element=\"06a52473-478d-454b-92e6-6a9e5fe9ce7e\")>,\n",
       " <selenium.webdriver.remote.webelement.WebElement (session=\"38ae9981ad5c5be41879e165b2694ede\", element=\"2a695f90-e881-4b38-80f8-688656928815\")>,\n",
       " <selenium.webdriver.remote.webelement.WebElement (session=\"38ae9981ad5c5be41879e165b2694ede\", element=\"e388d527-56d5-476c-b465-c5c56bdf215d\")>,\n",
       " <selenium.webdriver.remote.webelement.WebElement (session=\"38ae9981ad5c5be41879e165b2694ede\", element=\"e93f4e7b-39ae-4d92-90b3-aa5cf9c00c3f\")>,\n",
       " <selenium.webdriver.remote.webelement.WebElement (session=\"38ae9981ad5c5be41879e165b2694ede\", element=\"66c1dc63-174d-4ee8-838e-6cfc9a132541\")>,\n",
       " <selenium.webdriver.remote.webelement.WebElement (session=\"38ae9981ad5c5be41879e165b2694ede\", element=\"baed58c3-2edc-486b-8822-005aa121e832\")>,\n",
       " <selenium.webdriver.remote.webelement.WebElement (session=\"38ae9981ad5c5be41879e165b2694ede\", element=\"1a3b02c9-f504-409f-ba54-b929f942d0ca\")>,\n",
       " <selenium.webdriver.remote.webelement.WebElement (session=\"38ae9981ad5c5be41879e165b2694ede\", element=\"5b686d09-c675-4115-965c-69c66069bbab\")>,\n",
       " <selenium.webdriver.remote.webelement.WebElement (session=\"38ae9981ad5c5be41879e165b2694ede\", element=\"81cb79ac-e75f-4713-a475-4779cd5768dd\")>,\n",
       " <selenium.webdriver.remote.webelement.WebElement (session=\"38ae9981ad5c5be41879e165b2694ede\", element=\"082a8e92-06f7-44c7-a81b-d6c95a8b60d2\")>,\n",
       " <selenium.webdriver.remote.webelement.WebElement (session=\"38ae9981ad5c5be41879e165b2694ede\", element=\"a9df5dbc-5a13-460c-9ec9-cf393de33a62\")>,\n",
       " <selenium.webdriver.remote.webelement.WebElement (session=\"38ae9981ad5c5be41879e165b2694ede\", element=\"40c6c0b3-ed75-42e6-8630-70e6e7c2202b\")>,\n",
       " <selenium.webdriver.remote.webelement.WebElement (session=\"38ae9981ad5c5be41879e165b2694ede\", element=\"7d215f7e-3a37-4d93-bdc3-bfaa565bd352\")>,\n",
       " <selenium.webdriver.remote.webelement.WebElement (session=\"38ae9981ad5c5be41879e165b2694ede\", element=\"45f24224-2261-4add-a305-d1af3ab9fd6f\")>,\n",
       " <selenium.webdriver.remote.webelement.WebElement (session=\"38ae9981ad5c5be41879e165b2694ede\", element=\"ea77a6f0-2f48-4dc1-8f0b-9f931af16e46\")>,\n",
       " <selenium.webdriver.remote.webelement.WebElement (session=\"38ae9981ad5c5be41879e165b2694ede\", element=\"0e564a21-76db-4c27-b45c-2a796cab9a82\")>,\n",
       " <selenium.webdriver.remote.webelement.WebElement (session=\"38ae9981ad5c5be41879e165b2694ede\", element=\"b329fdc8-dde4-432e-b64f-ad32b2415f87\")>,\n",
       " <selenium.webdriver.remote.webelement.WebElement (session=\"38ae9981ad5c5be41879e165b2694ede\", element=\"0bd8f3b0-4190-416c-a822-090d413fc57d\")>,\n",
       " <selenium.webdriver.remote.webelement.WebElement (session=\"38ae9981ad5c5be41879e165b2694ede\", element=\"42a74cb6-5b12-4f75-ae3d-75b97f22fa80\")>,\n",
       " <selenium.webdriver.remote.webelement.WebElement (session=\"38ae9981ad5c5be41879e165b2694ede\", element=\"c4b7b4cc-c809-402d-80e3-2dfd31ed6a12\")>,\n",
       " <selenium.webdriver.remote.webelement.WebElement (session=\"38ae9981ad5c5be41879e165b2694ede\", element=\"979feb08-0071-418a-b174-80b1255c63fe\")>,\n",
       " <selenium.webdriver.remote.webelement.WebElement (session=\"38ae9981ad5c5be41879e165b2694ede\", element=\"eda1da5c-774d-4b24-9b57-2b73ac4fb74a\")>,\n",
       " <selenium.webdriver.remote.webelement.WebElement (session=\"38ae9981ad5c5be41879e165b2694ede\", element=\"2197a466-4e99-42d2-8692-5492ff1b7cad\")>,\n",
       " <selenium.webdriver.remote.webelement.WebElement (session=\"38ae9981ad5c5be41879e165b2694ede\", element=\"f1d01d8b-11b5-4309-bb00-b9ac2af7079f\")>,\n",
       " <selenium.webdriver.remote.webelement.WebElement (session=\"38ae9981ad5c5be41879e165b2694ede\", element=\"2fed54d9-f62e-4824-848d-485b99c932f3\")>,\n",
       " <selenium.webdriver.remote.webelement.WebElement (session=\"38ae9981ad5c5be41879e165b2694ede\", element=\"17eb3a6d-501f-4951-a04c-ec9b20e3081d\")>,\n",
       " <selenium.webdriver.remote.webelement.WebElement (session=\"38ae9981ad5c5be41879e165b2694ede\", element=\"c205e963-cd1c-4eb8-96e8-2fd6c29e4797\")>,\n",
       " <selenium.webdriver.remote.webelement.WebElement (session=\"38ae9981ad5c5be41879e165b2694ede\", element=\"6db74f7b-270e-46c6-9555-7d4e68ee068a\")>,\n",
       " <selenium.webdriver.remote.webelement.WebElement (session=\"38ae9981ad5c5be41879e165b2694ede\", element=\"ac4fb9c0-22d3-41b2-a622-5d9147a79156\")>,\n",
       " <selenium.webdriver.remote.webelement.WebElement (session=\"38ae9981ad5c5be41879e165b2694ede\", element=\"6288a5a0-58c7-4e64-847a-69410488329e\")>,\n",
       " <selenium.webdriver.remote.webelement.WebElement (session=\"38ae9981ad5c5be41879e165b2694ede\", element=\"9cbeaf02-bd07-4fdf-924b-e38ba851b815\")>,\n",
       " <selenium.webdriver.remote.webelement.WebElement (session=\"38ae9981ad5c5be41879e165b2694ede\", element=\"9f012e04-1704-49aa-8c28-366a577c7c54\")>,\n",
       " <selenium.webdriver.remote.webelement.WebElement (session=\"38ae9981ad5c5be41879e165b2694ede\", element=\"e4d8428a-ff0c-43a4-b898-904b02a0cc60\")>,\n",
       " <selenium.webdriver.remote.webelement.WebElement (session=\"38ae9981ad5c5be41879e165b2694ede\", element=\"57eaabcb-f310-4ace-bd11-cbea06623682\")>,\n",
       " <selenium.webdriver.remote.webelement.WebElement (session=\"38ae9981ad5c5be41879e165b2694ede\", element=\"f42cfd40-8c43-4ccf-98c0-35c56cf241f1\")>,\n",
       " <selenium.webdriver.remote.webelement.WebElement (session=\"38ae9981ad5c5be41879e165b2694ede\", element=\"e0e15422-1a93-42d8-a30d-4ec28ec2dc2a\")>,\n",
       " <selenium.webdriver.remote.webelement.WebElement (session=\"38ae9981ad5c5be41879e165b2694ede\", element=\"e97bf652-b668-4468-8bcd-756f23b716bb\")>,\n",
       " <selenium.webdriver.remote.webelement.WebElement (session=\"38ae9981ad5c5be41879e165b2694ede\", element=\"c3b070e6-9f8e-4d3f-b537-14c95ce385ae\")>,\n",
       " <selenium.webdriver.remote.webelement.WebElement (session=\"38ae9981ad5c5be41879e165b2694ede\", element=\"4e3b888a-dda1-4466-9f37-1a966da37014\")>,\n",
       " <selenium.webdriver.remote.webelement.WebElement (session=\"38ae9981ad5c5be41879e165b2694ede\", element=\"01b7f44e-7504-4523-8d15-30b6b06e1ca2\")>,\n",
       " <selenium.webdriver.remote.webelement.WebElement (session=\"38ae9981ad5c5be41879e165b2694ede\", element=\"a2cab61e-6075-4a36-a322-5644c56ad623\")>,\n",
       " <selenium.webdriver.remote.webelement.WebElement (session=\"38ae9981ad5c5be41879e165b2694ede\", element=\"752d7560-8162-4cf0-b179-309ef1931455\")>,\n",
       " <selenium.webdriver.remote.webelement.WebElement (session=\"38ae9981ad5c5be41879e165b2694ede\", element=\"a3ab6a9b-0c08-463f-97e8-8c4a91faa6a5\")>,\n",
       " <selenium.webdriver.remote.webelement.WebElement (session=\"38ae9981ad5c5be41879e165b2694ede\", element=\"ef96f2d8-cba0-4b69-a853-601676b4ecec\")>,\n",
       " <selenium.webdriver.remote.webelement.WebElement (session=\"38ae9981ad5c5be41879e165b2694ede\", element=\"97529eac-f99a-46dd-9ef6-a01fa2aaf32a\")>,\n",
       " <selenium.webdriver.remote.webelement.WebElement (session=\"38ae9981ad5c5be41879e165b2694ede\", element=\"0b77b370-94a9-445b-824a-2302171ac5ea\")>,\n",
       " <selenium.webdriver.remote.webelement.WebElement (session=\"38ae9981ad5c5be41879e165b2694ede\", element=\"a9602b71-79e0-4fe1-a933-ff9966bfbdba\")>,\n",
       " <selenium.webdriver.remote.webelement.WebElement (session=\"38ae9981ad5c5be41879e165b2694ede\", element=\"b1964ac9-6f9b-42db-994d-edd0ed77c2d6\")>,\n",
       " <selenium.webdriver.remote.webelement.WebElement (session=\"38ae9981ad5c5be41879e165b2694ede\", element=\"9278ddb6-f599-4994-a4e3-41dd601397f6\")>,\n",
       " <selenium.webdriver.remote.webelement.WebElement (session=\"38ae9981ad5c5be41879e165b2694ede\", element=\"2a64811d-48e1-421a-837a-884c103c2eba\")>,\n",
       " <selenium.webdriver.remote.webelement.WebElement (session=\"38ae9981ad5c5be41879e165b2694ede\", element=\"52465163-483a-4537-b102-5e3bb8618f75\")>,\n",
       " <selenium.webdriver.remote.webelement.WebElement (session=\"38ae9981ad5c5be41879e165b2694ede\", element=\"0f670fac-4eab-455a-a013-d4b6e8c1ae22\")>,\n",
       " <selenium.webdriver.remote.webelement.WebElement (session=\"38ae9981ad5c5be41879e165b2694ede\", element=\"59f44e5f-904c-4028-9d48-6364b4bf01af\")>,\n",
       " <selenium.webdriver.remote.webelement.WebElement (session=\"38ae9981ad5c5be41879e165b2694ede\", element=\"66d7cc4a-f1d7-49cb-b620-28f58038658c\")>,\n",
       " <selenium.webdriver.remote.webelement.WebElement (session=\"38ae9981ad5c5be41879e165b2694ede\", element=\"8d39d1fb-2e35-449c-8c6d-94fc286a4021\")>,\n",
       " <selenium.webdriver.remote.webelement.WebElement (session=\"38ae9981ad5c5be41879e165b2694ede\", element=\"0c01ed64-efd7-4a6a-85ab-50fb1e9415c1\")>,\n",
       " <selenium.webdriver.remote.webelement.WebElement (session=\"38ae9981ad5c5be41879e165b2694ede\", element=\"74c0e56b-982b-4686-945e-9572335990ff\")>,\n",
       " <selenium.webdriver.remote.webelement.WebElement (session=\"38ae9981ad5c5be41879e165b2694ede\", element=\"2c96e3e1-b0df-409b-bd54-1eb3c97d2b6a\")>,\n",
       " <selenium.webdriver.remote.webelement.WebElement (session=\"38ae9981ad5c5be41879e165b2694ede\", element=\"7032933b-626f-43d1-a23f-e030d768ac63\")>,\n",
       " <selenium.webdriver.remote.webelement.WebElement (session=\"38ae9981ad5c5be41879e165b2694ede\", element=\"6f6e48e4-3953-4466-94b7-0846b50faa50\")>,\n",
       " <selenium.webdriver.remote.webelement.WebElement (session=\"38ae9981ad5c5be41879e165b2694ede\", element=\"ef6b92d8-d430-401a-ae55-b571eb7daea1\")>,\n",
       " <selenium.webdriver.remote.webelement.WebElement (session=\"38ae9981ad5c5be41879e165b2694ede\", element=\"8baa33ea-472e-44a9-a074-e21aa6fb05d7\")>,\n",
       " <selenium.webdriver.remote.webelement.WebElement (session=\"38ae9981ad5c5be41879e165b2694ede\", element=\"3150c4e5-8a62-4a31-9b76-250954dcb68a\")>,\n",
       " <selenium.webdriver.remote.webelement.WebElement (session=\"38ae9981ad5c5be41879e165b2694ede\", element=\"1461a454-d89b-4121-9fa8-5d5ebeb190bd\")>,\n",
       " <selenium.webdriver.remote.webelement.WebElement (session=\"38ae9981ad5c5be41879e165b2694ede\", element=\"4bbca947-66e1-4425-a4a0-b90de25687c0\")>,\n",
       " <selenium.webdriver.remote.webelement.WebElement (session=\"38ae9981ad5c5be41879e165b2694ede\", element=\"02fd28a9-1ce5-4a64-be52-255e0f51c03c\")>,\n",
       " <selenium.webdriver.remote.webelement.WebElement (session=\"38ae9981ad5c5be41879e165b2694ede\", element=\"bd802ed5-1eed-4103-8134-52e367106bef\")>,\n",
       " <selenium.webdriver.remote.webelement.WebElement (session=\"38ae9981ad5c5be41879e165b2694ede\", element=\"af2d63c6-a874-4e34-b87a-3d5fbfadeed1\")>,\n",
       " <selenium.webdriver.remote.webelement.WebElement (session=\"38ae9981ad5c5be41879e165b2694ede\", element=\"deca091e-9fa7-4fc1-9cc2-16b35d0d30f3\")>,\n",
       " <selenium.webdriver.remote.webelement.WebElement (session=\"38ae9981ad5c5be41879e165b2694ede\", element=\"dedcd490-53e8-4720-bbe9-22e8eace5371\")>,\n",
       " <selenium.webdriver.remote.webelement.WebElement (session=\"38ae9981ad5c5be41879e165b2694ede\", element=\"020ea18c-8c67-4b3d-b368-27283163211d\")>,\n",
       " <selenium.webdriver.remote.webelement.WebElement (session=\"38ae9981ad5c5be41879e165b2694ede\", element=\"8d70739a-e438-411a-926d-b3fcd02a0c56\")>,\n",
       " <selenium.webdriver.remote.webelement.WebElement (session=\"38ae9981ad5c5be41879e165b2694ede\", element=\"b24831f2-5f60-4d70-9975-5f09d467ab14\")>,\n",
       " <selenium.webdriver.remote.webelement.WebElement (session=\"38ae9981ad5c5be41879e165b2694ede\", element=\"1ddefc26-361c-45b0-90ce-876123760bff\")>,\n",
       " <selenium.webdriver.remote.webelement.WebElement (session=\"38ae9981ad5c5be41879e165b2694ede\", element=\"505d1475-111c-4cba-a8ee-31312221dc6d\")>,\n",
       " <selenium.webdriver.remote.webelement.WebElement (session=\"38ae9981ad5c5be41879e165b2694ede\", element=\"a4cfdcfb-8b62-431b-9215-4a3d90c4adc1\")>,\n",
       " <selenium.webdriver.remote.webelement.WebElement (session=\"38ae9981ad5c5be41879e165b2694ede\", element=\"adf80aa6-88e9-4133-a595-48f8cc9f51dd\")>,\n",
       " <selenium.webdriver.remote.webelement.WebElement (session=\"38ae9981ad5c5be41879e165b2694ede\", element=\"7ce78505-aa75-4bb0-b9d1-5f21a35532ca\")>,\n",
       " <selenium.webdriver.remote.webelement.WebElement (session=\"38ae9981ad5c5be41879e165b2694ede\", element=\"e4446322-174b-4847-a49f-a8564e8e2707\")>,\n",
       " <selenium.webdriver.remote.webelement.WebElement (session=\"38ae9981ad5c5be41879e165b2694ede\", element=\"5854c08d-e04a-41fb-b101-c603d3cc1f6b\")>,\n",
       " <selenium.webdriver.remote.webelement.WebElement (session=\"38ae9981ad5c5be41879e165b2694ede\", element=\"6aa4ac71-8ec3-45d8-82ce-18afdd9e0124\")>,\n",
       " <selenium.webdriver.remote.webelement.WebElement (session=\"38ae9981ad5c5be41879e165b2694ede\", element=\"aa4a9970-f122-4f94-9dda-11fb58b2e415\")>,\n",
       " <selenium.webdriver.remote.webelement.WebElement (session=\"38ae9981ad5c5be41879e165b2694ede\", element=\"3aa9f572-c034-4b46-99d0-0b5f81277c23\")>,\n",
       " <selenium.webdriver.remote.webelement.WebElement (session=\"38ae9981ad5c5be41879e165b2694ede\", element=\"a205f936-ac94-4d4c-b07c-071e3c725a48\")>,\n",
       " <selenium.webdriver.remote.webelement.WebElement (session=\"38ae9981ad5c5be41879e165b2694ede\", element=\"a3d6ad4a-7d7f-4199-a1cf-c14a590db790\")>,\n",
       " <selenium.webdriver.remote.webelement.WebElement (session=\"38ae9981ad5c5be41879e165b2694ede\", element=\"0b63380f-5c96-4a4c-8344-91b56be7b231\")>,\n",
       " <selenium.webdriver.remote.webelement.WebElement (session=\"38ae9981ad5c5be41879e165b2694ede\", element=\"94f76187-6172-4348-923e-31a3a30c6901\")>,\n",
       " <selenium.webdriver.remote.webelement.WebElement (session=\"38ae9981ad5c5be41879e165b2694ede\", element=\"2ce85e1f-638a-4e7d-a263-60c86df85836\")>,\n",
       " <selenium.webdriver.remote.webelement.WebElement (session=\"38ae9981ad5c5be41879e165b2694ede\", element=\"1d9c1a77-0f85-4d2b-a82c-3e07ea258edb\")>,\n",
       " <selenium.webdriver.remote.webelement.WebElement (session=\"38ae9981ad5c5be41879e165b2694ede\", element=\"6a11df12-a730-403a-b697-24b1b4f1e73a\")>,\n",
       " <selenium.webdriver.remote.webelement.WebElement (session=\"38ae9981ad5c5be41879e165b2694ede\", element=\"cbfe4483-6a2d-480f-b7c3-08d88335c18d\")>,\n",
       " <selenium.webdriver.remote.webelement.WebElement (session=\"38ae9981ad5c5be41879e165b2694ede\", element=\"81c518ab-30b7-4e39-8d65-80ac08281ca2\")>,\n",
       " <selenium.webdriver.remote.webelement.WebElement (session=\"38ae9981ad5c5be41879e165b2694ede\", element=\"6b3e0c6a-cfca-48c6-b27c-f0b54d7c96b5\")>,\n",
       " <selenium.webdriver.remote.webelement.WebElement (session=\"38ae9981ad5c5be41879e165b2694ede\", element=\"1bcc0b85-ec23-4cde-bb0b-486a53a115e3\")>,\n",
       " <selenium.webdriver.remote.webelement.WebElement (session=\"38ae9981ad5c5be41879e165b2694ede\", element=\"2c334958-7b05-4a12-831f-641b02fdabe9\")>,\n",
       " <selenium.webdriver.remote.webelement.WebElement (session=\"38ae9981ad5c5be41879e165b2694ede\", element=\"0d7898a4-b570-4938-b759-1c6aecb3bea4\")>,\n",
       " <selenium.webdriver.remote.webelement.WebElement (session=\"38ae9981ad5c5be41879e165b2694ede\", element=\"87e82efe-a517-4644-a39c-891b0f1c5f1f\")>,\n",
       " <selenium.webdriver.remote.webelement.WebElement (session=\"38ae9981ad5c5be41879e165b2694ede\", element=\"ebc7a2da-e348-4eb4-b72d-20e0825c81e4\")>,\n",
       " <selenium.webdriver.remote.webelement.WebElement (session=\"38ae9981ad5c5be41879e165b2694ede\", element=\"ba852493-b09d-4917-b5f8-e3ddffa69673\")>,\n",
       " <selenium.webdriver.remote.webelement.WebElement (session=\"38ae9981ad5c5be41879e165b2694ede\", element=\"4ecb3bf1-be57-4ce3-a28d-65fa51e073e2\")>,\n",
       " <selenium.webdriver.remote.webelement.WebElement (session=\"38ae9981ad5c5be41879e165b2694ede\", element=\"e9baef32-ecf0-410a-865a-2e135f2f5905\")>,\n",
       " <selenium.webdriver.remote.webelement.WebElement (session=\"38ae9981ad5c5be41879e165b2694ede\", element=\"3de31dc7-af7c-4af9-bc70-5314c4f0257e\")>]"
      ]
     },
     "execution_count": 64,
     "metadata": {},
     "output_type": "execute_result"
    }
   ],
   "source": [
    "elem"
   ]
  },
  {
   "cell_type": "code",
   "execution_count": 73,
   "id": "75dc013d",
   "metadata": {},
   "outputs": [
    {
     "name": "stdout",
     "output_type": "stream",
     "text": [
      "https://ieeexplore.ieee.org/iel7/10207/6786379/06786458.pdf\n",
      "https://aclanthology.org/C92-4173.pdf\n",
      "https://aclanthology.org/C92-4173.pdf\n"
     ]
    }
   ],
   "source": [
    "count=0\n",
    "for i in elem:\n",
    "    links=i.get_attribute('href')\n",
    "    if links.endswith('.pdf'):\n",
    "        count+=1\n",
    "        print(links)\n",
    "        response=requests.get(links)\n",
    "        file=open('pdf_file'+str(count)+'.pdf','wb')\n",
    "        file.write(response.content)\n",
    "        file.close()"
   ]
  },
  {
   "cell_type": "code",
   "execution_count": null,
   "id": "7b42ac70",
   "metadata": {},
   "outputs": [],
   "source": []
  },
  {
   "cell_type": "code",
   "execution_count": null,
   "id": "cd903c3e",
   "metadata": {},
   "outputs": [],
   "source": []
  },
  {
   "cell_type": "code",
   "execution_count": null,
   "id": "b718973c",
   "metadata": {},
   "outputs": [],
   "source": []
  }
 ],
 "metadata": {
  "kernelspec": {
   "display_name": "Python 3 (ipykernel)",
   "language": "python",
   "name": "python3"
  },
  "language_info": {
   "codemirror_mode": {
    "name": "ipython",
    "version": 3
   },
   "file_extension": ".py",
   "mimetype": "text/x-python",
   "name": "python",
   "nbconvert_exporter": "python",
   "pygments_lexer": "ipython3",
   "version": "3.9.7"
  }
 },
 "nbformat": 4,
 "nbformat_minor": 5
}
